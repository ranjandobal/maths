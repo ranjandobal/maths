{
  "nbformat": 4,
  "nbformat_minor": 0,
  "metadata": {
    "colab": {
      "provenance": []
    },
    "kernelspec": {
      "name": "python3",
      "display_name": "Python 3"
    },
    "language_info": {
      "name": "python"
    }
  },
  "cells": [
    {
      "cell_type": "markdown",
      "source": [
        "Task 1. Classify Temperatures:\n",
        "1. Create empty lists for temperature classifications:\n",
        "(a) Cold: temperatures below 10°C.\n",
        "(b) Mild: temperatures between 10°C and 15°C.\n",
        "(c) Comfortable: temperatures between 15°C and 20°C.\n",
        "\n",
        "2. Iterate over the temperatures list and add each temperature to the appropriate cate-\n",
        "gory.\n",
        "\n",
        "3. Print the lists to verify the classifications."
      ],
      "metadata": {
        "id": "ls-WYd5o7CbH"
      }
    },
    {
      "cell_type": "code",
      "execution_count": 1,
      "metadata": {
        "colab": {
          "base_uri": "https://localhost:8080/"
        },
        "id": "AQEa8R6z6keu",
        "outputId": "c80059be-3126-4e61-f78d-113da7ed5bb6"
      },
      "outputs": [
        {
          "output_type": "stream",
          "name": "stdout",
          "text": [
            "Cold : [8.2, 7.9, 9.0, 8.5, 7.7, 8.4, 9.5, 8.1, 7.6, 8.0, 7.8, 8.7, 9.2, 8.3, 8.9, 7.8]\n",
            "Mild : [14.1, 13.5, 13.0, 12.9, 13.3, 14.0, 13.4, 14.2, 12.8, 13.7, 13.6, 13.8, 13.9, 12.7, 13.1, 12.5]\n",
            "Comfortable : [17.4, 18.0, 17.8, 16.5, 17.2, 16.7, 18.3, 17.9, 17.0, 16.8, 17.5, 17.1, 18.1, 16.4, 18.2, 16.6]\n"
          ]
        }
      ],
      "source": [
        "#task1\n",
        "temperatures = [\n",
        "    8.2, 17.4, 14.1, 7.9, 18.0, 13.5, 9.0, 17.8, 13.0, 8.5,\n",
        "    16.5, 12.9, 7.7, 17.2, 13.3, 8.4, 16.7, 14.0, 9.5, 18.3,\n",
        "    13.4, 8.1, 17.9, 14.2, 7.6, 17.0, 12.8, 8.0, 16.8, 13.7,\n",
        "    7.8, 17.5, 13.6, 8.7, 17.1, 13.8, 9.2, 18.1, 13.9, 8.3,\n",
        "    16.4, 12.7, 8.9, 18.2, 13.1, 7.8, 16.6, 12.5\n",
        "]\n",
        "\n",
        "cold = []\n",
        "mild = []\n",
        "comfortable = []\n",
        "for temp in temperatures:\n",
        "    if temp < 10:\n",
        "        cold.append(temp)\n",
        "    elif 10 <= temp < 15:\n",
        "        mild.append(temp)\n",
        "    elif 15 <= temp <= 20:\n",
        "        comfortable.append(temp)\n",
        "print(\"Cold :\", cold)\n",
        "print(\"Mild :\", mild)\n",
        "print(\"Comfortable :\", comfortable)"
      ]
    },
    {
      "cell_type": "markdown",
      "source": [
        "Task 2. Based on Data - Answer all the Questions:\n",
        "1. How many times was it mild?\n",
        "(a) Hint: Count the number of items in the mild list and print the result.\n",
        "2. How many times was it comfortable?\n",
        "3. How many times was it cold?"
      ],
      "metadata": {
        "id": "Lwoga6Co7KPW"
      }
    },
    {
      "cell_type": "code",
      "source": [
        "#Task 2\n",
        "print(\"Count Mild :\", len(mild))\n",
        "print(\"Count Comfortable :\", len(comfortable))\n",
        "print(\"Count Cold :\", len(cold))"
      ],
      "metadata": {
        "colab": {
          "base_uri": "https://localhost:8080/"
        },
        "id": "Ms9VQIt87OQE",
        "outputId": "bc324129-182b-400f-fc9b-9d4bdb2610ab"
      },
      "execution_count": 2,
      "outputs": [
        {
          "output_type": "stream",
          "name": "stdout",
          "text": [
            "Count Mild : 16\n",
            "Count Comfortable : 16\n",
            "Count Cold : 16\n"
          ]
        }
      ]
    },
    {
      "cell_type": "markdown",
      "source": [
        "Task 3. Convert Temperatures from Celsius to Fahrenheit\n",
        "\n",
        "Using the formula for temperature conversion, convert each reading from Celsius to Fahren-\n",
        "heit and store it in a new list called temperatures_fahrenheit.\n",
        "\n",
        "Formula: Fahrenheit = (Celsius ×\n",
        "9\n",
        "5\n",
        ") + 32\n",
        "\n",
        "1. Iterate over the temperatures list and apply the formula to convert each temperature.\n",
        "2. Store the results in the new list.\n",
        "3. Print the converted Fahrenheit values."
      ],
      "metadata": {
        "id": "5KgE75ZI7Z0i"
      }
    },
    {
      "cell_type": "code",
      "source": [
        "#task3\n",
        "temperatures_fahrenheit = [(temp * 9/5) + 32 for temp in temperatures]\n",
        "print(\"Temperatures in Fahrenheit:\", temperatures_fahrenheit)"
      ],
      "metadata": {
        "colab": {
          "base_uri": "https://localhost:8080/"
        },
        "id": "hPKBjQfG7fJB",
        "outputId": "cc1d624d-418c-4342-ba08-f2062a2a6e45"
      },
      "execution_count": 3,
      "outputs": [
        {
          "output_type": "stream",
          "name": "stdout",
          "text": [
            "Temperatures in Fahrenheit: [46.76, 63.32, 57.379999999999995, 46.22, 64.4, 56.3, 48.2, 64.04, 55.4, 47.3, 61.7, 55.22, 45.86, 62.959999999999994, 55.94, 47.120000000000005, 62.059999999999995, 57.2, 49.1, 64.94, 56.120000000000005, 46.58, 64.22, 57.56, 45.68, 62.6, 55.04, 46.4, 62.24, 56.66, 46.04, 63.5, 56.48, 47.66, 62.78, 56.84, 48.56, 64.58, 57.02, 46.94, 61.519999999999996, 54.86, 48.02, 64.75999999999999, 55.58, 46.04, 61.88, 54.5]\n"
          ]
        }
      ]
    },
    {
      "cell_type": "markdown",
      "source": [
        "Task 4. Analyze Temperature Patterns by Time of Day:\n",
        "Scenario: Each day’s readings are grouped as:\n",
        "• Night (00-08),\n",
        "• Evening (08-16),\n",
        "• Day (16-24).\n",
        "1. Create empty lists for night, day, and evening temperatures.\n",
        "2. Iterate over the temperatures list, assigning values to each time-of-day list based on\n",
        "their position.\n",
        "3. Calculate and print the average day-time temperature.\n",
        "4. (Optional) Plot ”day vs. temperature” using matplotlib."
      ],
      "metadata": {
        "id": "yfYBgdX07m0V"
      }
    },
    {
      "cell_type": "code",
      "source": [
        "#task4\n",
        "night = []\n",
        "evening = []\n",
        "day = []\n",
        "\n",
        "for i, temp in enumerate(temperatures):\n",
        "    if i % 3 == 0:\n",
        "        night.append(temp)\n",
        "    elif i % 3 == 1:\n",
        "        evening.append(temp)\n",
        "    elif i % 3 == 2:\n",
        "        day.append(temp)\n",
        "\n",
        "print(\"Night temperatures:\", night)\n",
        "print(\"Evening temperatures:\", evening)\n",
        "print(\"Day temperatures:\", day)\n",
        "\n",
        "average_temperature = sum(day) / len(day)\n",
        "print(\"Average day temperature:\", average_temperature)\n",
        "\n",
        "import matplotlib.pyplot as plt\n",
        "\n",
        "plt.plot(day, marker='o')\n",
        "plt.title(\"Day vs Temperature\")\n",
        "plt.xlabel(\"Day\")\n",
        "plt.ylabel(\"Temperature (°C)\")\n",
        "plt.show()"
      ],
      "metadata": {
        "colab": {
          "base_uri": "https://localhost:8080/",
          "height": 540
        },
        "id": "PURMHKiQ7xUG",
        "outputId": "28b6bb55-c7e0-4ac8-8ac2-7d6cd48a2d09"
      },
      "execution_count": 5,
      "outputs": [
        {
          "output_type": "stream",
          "name": "stdout",
          "text": [
            "Night temperatures: [8.2, 7.9, 9.0, 8.5, 7.7, 8.4, 9.5, 8.1, 7.6, 8.0, 7.8, 8.7, 9.2, 8.3, 8.9, 7.8]\n",
            "Evening temperatures: [17.4, 18.0, 17.8, 16.5, 17.2, 16.7, 18.3, 17.9, 17.0, 16.8, 17.5, 17.1, 18.1, 16.4, 18.2, 16.6]\n",
            "Day temperatures: [14.1, 13.5, 13.0, 12.9, 13.3, 14.0, 13.4, 14.2, 12.8, 13.7, 13.6, 13.8, 13.9, 12.7, 13.1, 12.5]\n",
            "Average day temperature: 13.40625\n"
          ]
        },
        {
          "output_type": "display_data",
          "data": {
            "text/plain": [
              "<Figure size 640x480 with 1 Axes>"
            ],
            "image/png": "[encoded data removed]"
          },
          "metadata": {}
        }
      ]
    },
    {
      "cell_type": "markdown",
      "source": [
        "Task 1 - Sum of Nested Lists:\n",
        "Scenario: You have a list that contains numbers and other lists of numbers (nested lists).\n",
        "You want to find the total sum of all the numbers in this structure.\n",
        "Task:\n",
        "• Write a recursive function sum_nested_list(nested_list) that:\n",
        "1. Takes a nested list (a list that can contain numbers or other lists of numbers) as\n",
        "input.\n",
        "2. Sums all numbers at every depth level of the list, regardless of how deeply nested\n",
        "the numbers are.\n",
        "• Test the function with a sample nested list, such as\n",
        "nested_list = [1, [2, [3, 4], 5], 6, [7, 8]].\n",
        "The result should be the total sum of all the numbers."
      ],
      "metadata": {
        "id": "ZnTdjiT270B-"
      }
    },
    {
      "cell_type": "code",
      "source": [
        "# Task 1\n",
        "def sum_nested_list(nested_list):\n",
        "    total = 0\n",
        "    for i in nested_list:\n",
        "        if isinstance(i, list):\n",
        "            total += sum_nested_list(i)\n",
        "        else:\n",
        "            total += i\n",
        "    return total\n",
        "\n",
        "nested_list = [1, [2, [3, 4], 5], 6, [7, 8]]\n",
        "print(sum_nested_list(nested_list))\n"
      ],
      "metadata": {
        "colab": {
          "base_uri": "https://localhost:8080/"
        },
        "id": "kWuRbiKx72r7",
        "outputId": "e4db35ca-7565-4d66-f782-d6a325b4d6f7"
      },
      "execution_count": 6,
      "outputs": [
        {
          "output_type": "stream",
          "name": "stdout",
          "text": [
            "36\n"
          ]
        }
      ]
    },
    {
      "cell_type": "markdown",
      "source": [
        "Task 2 - Generate All Permutations of a String:\n",
        "Scenario: Given a string, generate all possible permutations of its characters. This is useful\n",
        "for understanding backtracking and recursive depth-first search.\n",
        "Task:\n",
        "• Write a recursive function generate_permutations(s) that:\n",
        "– Takes a string s as input and returns a list of all unique permutations.\n",
        "• Test with strings like ”abc” and ”aab”.\n",
        "\n",
        "print(generate_permutations(\"abc\"))\n",
        "# Should return [’abc’, ’acb’, ’bac’, ’bca’, ’cab’, ’cba’]"
      ],
      "metadata": {
        "id": "TRLJY76m75mk"
      }
    },
    {
      "cell_type": "code",
      "source": [
        "# Task-2\n",
        "def generate_permutations(s):\n",
        "    if len(s) == 1:\n",
        "        return [s]\n",
        "    permutations = []\n",
        "    for i, char in enumerate(s):\n",
        "        for perm in generate_permutations(s[:i] + s[i+1:]):\n",
        "            permutations.append(char + perm)\n",
        "    return list(set(permutations))\n",
        "\n",
        "print(generate_permutations(\"abc\"))\n",
        "print(generate_permutations(\"aab\"))"
      ],
      "metadata": {
        "colab": {
          "base_uri": "https://localhost:8080/"
        },
        "id": "PMAqZRJc778L",
        "outputId": "aacef60f-9162-4d5e-e3e9-46d78516fc4f"
      },
      "execution_count": 7,
      "outputs": [
        {
          "output_type": "stream",
          "name": "stdout",
          "text": [
            "['abc', 'bac', 'cba', 'bca', 'acb', 'cab']\n",
            "['aab', 'baa', 'aba']\n"
          ]
        }
      ]
    },
    {
      "cell_type": "markdown",
      "source": [
        "Task 3 - Directory Size Calculation:\n",
        "Directory Size Calculation Scenario: Imagine a file system where directories can contain files\n",
        "(with sizes in KB) and other directories. You want to calculate the total size of a directory,\n",
        "including all nested files and subdirectories."
      ],
      "metadata": {
        "id": "tqA9zkMk8C6u"
      }
    },
    {
      "cell_type": "code",
      "source": [
        "# Task-3\n",
        "def calculate_directory_size(directory):\n",
        "    total_size = 0\n",
        "    for key, value in directory.items():\n",
        "        if isinstance(value, dict):\n",
        "            total_size += calculate_directory_size(value)\n",
        "        else:\n",
        "            total_size += value\n",
        "    return total_size\n",
        "\n",
        "directory_structure = {\n",
        "    \"file1.txt\": 200,\n",
        "    \"file2.txt\": 300,\n",
        "    \"subdir1\": {\n",
        "        \"file3.txt\": 400,\n",
        "        \"file4.txt\": 100\n",
        "    },\n",
        "    \"subdir2\": {\n",
        "        \"subsubdir1\": {\n",
        "            \"file5.txt\": 250\n",
        "        },\n",
        "        \"file6.txt\": 150\n",
        "    }\n",
        "}\n",
        "\n",
        "print(calculate_directory_size(directory_structure))"
      ],
      "metadata": {
        "colab": {
          "base_uri": "https://localhost:8080/"
        },
        "id": "AsmqDXNY8J6p",
        "outputId": "b13e54c5-7a1b-43d0-de94-302659cc4447"
      },
      "execution_count": 9,
      "outputs": [
        {
          "output_type": "stream",
          "name": "stdout",
          "text": [
            "1400\n"
          ]
        }
      ]
    },
    {
      "cell_type": "markdown",
      "source": [
        "8.2.2 Exercises - Dynamic Programming:\n",
        "Task 1 - Coin Change Problem:\n",
        "Scenario: Given a set of coin denominations and a target amount, find the minimum number\n",
        "of coins needed to make the amount. If it’s not possible, return - 1.\n",
        "Task:\n",
        "1. Write a function min_coins(coins, amount) that:\n",
        "• Uses DP to calculate the minimum number of coins needed to make up the\n",
        "amount.\n",
        "2. Test with coins = [1, 2, 5] and amount = 11. The result should be 3 (using coins\n",
        "[5, 5, 1])."
      ],
      "metadata": {
        "id": "Ix0w8kxJ8MbK"
      }
    },
    {
      "cell_type": "code",
      "source": [
        "# Task-1\n",
        "def min_coins(coins, amount):\n",
        "    dp = [float('inf')] * (amount + 1)\n",
        "    dp[0] = 0\n",
        "    for coin in coins:\n",
        "        for i in range(coin, amount + 1):\n",
        "            dp[i] = min(dp[i], dp[i - coin] + 1)\n",
        "    return dp[amount] if dp[amount] != float('inf') else -1\n",
        "\n",
        "coins = [1, 2, 5]\n",
        "amount = 11\n",
        "print(min_coins(coins, amount))\n"
      ],
      "metadata": {
        "colab": {
          "base_uri": "https://localhost:8080/"
        },
        "id": "kVvahNce8O9C",
        "outputId": "aa1395da-c573-47d6-820b-79895159de4d"
      },
      "execution_count": 10,
      "outputs": [
        {
          "output_type": "stream",
          "name": "stdout",
          "text": [
            "3\n"
          ]
        }
      ]
    },
    {
      "cell_type": "markdown",
      "source": [
        "Task 2 - Longest Common Subsequence (LCS):\n",
        "Scenario: Given two strings, find the length of their longest common subsequence (LCS).\n",
        "This is useful in text comparison.\n",
        "Task:\n",
        "1. Write a function longest_common_subsequence(s1, s2) that:\n",
        "• Uses DP to find the length of the LCS of two strings s1 and s2.\n",
        "2. Test with strings like \"abcde\" and \"ace\"; the LCS length should be 3 (\"ace\")."
      ],
      "metadata": {
        "id": "KFUuGuO-8R4q"
      }
    },
    {
      "cell_type": "code",
      "source": [
        "# Task-2\n",
        "def longest_common_subsequence(s1, s2):\n",
        "    dp = [[0] * (len(s2) + 1) for _ in range(len(s1) + 1)]\n",
        "    for i in range(1, len(s1) + 1):\n",
        "        for j in range(1, len(s2) + 1):\n",
        "            if s1[i - 1] == s2[j - 1]:\n",
        "                dp[i][j] = dp[i - 1][j - 1] + 1\n",
        "            else:\n",
        "                dp[i][j] = max(dp[i - 1][j], dp[i][j - 1])\n",
        "    return dp[len(s1)][len(s2)]\n",
        "\n",
        "s1 = \"abcde\"\n",
        "s2 = \"ace\"\n",
        "print(longest_common_subsequence(s1, s2))"
      ],
      "metadata": {
        "colab": {
          "base_uri": "https://localhost:8080/"
        },
        "id": "HIwgyQcY8T8z",
        "outputId": "1e407f41-fe4a-4cf1-c362-41885478e726"
      },
      "execution_count": 11,
      "outputs": [
        {
          "output_type": "stream",
          "name": "stdout",
          "text": [
            "3\n"
          ]
        }
      ]
    },
    {
      "cell_type": "markdown",
      "source": [
        "Task 3 - 0/1 Knapsack Problem:\n",
        "Scenario: You have a list of items, each with a weight and a value. Given a weight capacity,\n",
        "maximize the total value of items you can carry without exceeding the weight capacity.\n",
        "Task:\n",
        "1. Write a function knapsack(weights, values, capacity) that:\n",
        "• Uses DP to determine the maximum value that can be achieved within the given\n",
        "weight capacity.\n",
        "\n",
        "2. Test with weights [1, 3, 4, 5], values [1, 4, 5, 7], and capacity 7. The re-\n",
        "sult should be 9."
      ],
      "metadata": {
        "id": "dAOykGFN8WlJ"
      }
    },
    {
      "cell_type": "code",
      "source": [
        "# Task -3\n",
        "def knapsack(weights, values, capacity):\n",
        "    n = len(weights)\n",
        "    dp = [[0] * (capacity + 1) for _ in range(n + 1)]\n",
        "    for i in range(1, n + 1):\n",
        "        for w in range(1, capacity + 1):\n",
        "            if weights[i - 1] <= w:\n",
        "                dp[i][w] = max(dp[i - 1][w], dp[i - 1][w - weights[i - 1]] + values[i - 1])\n",
        "            else:\n",
        "                dp[i][w] = dp[i - 1][w]\n",
        "    return dp[n][capacity]\n",
        "\n",
        "weights = [1, 3, 4, 5]\n",
        "values = [1, 4, 5, 7]\n",
        "capacity = 7\n",
        "print(knapsack(weights, values, capacity))\n"
      ],
      "metadata": {
        "colab": {
          "base_uri": "https://localhost:8080/"
        },
        "id": "nQq1emHM8ZHr",
        "outputId": "314f278c-eee4-475e-820a-3dc649c94d46"
      },
      "execution_count": 12,
      "outputs": [
        {
          "output_type": "stream",
          "name": "stdout",
          "text": [
            "9\n"
          ]
        }
      ]
    }
  ]
}