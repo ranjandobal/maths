{
  "nbformat": 4,
  "nbformat_minor": 0,
  "metadata": {
    "colab": {
      "provenance": []
    },
    "kernelspec": {
      "name": "python3",
      "display_name": "Python 3"
    },
    "language_info": {
      "name": "python"
    }
  },
  "cells": [
    {
      "cell_type": "markdown",
      "source": [
        "Warming Up Exercise: Basic Vector and Matrix Operation with Numpy.\n",
        "Problem - 1: Array Creation:\n",
        "Complete the following Tasks:\n",
        "1. Initialize an empty array with size 2X2.\n",
        "2. Initialize an all one array with size 4X2.\n",
        "3. Return a new array of given shape and type, filled with fill value.{Hint: np.full}\n",
        "4. Return a new array of zeros with same shape and type as a given array.{Hint: np.zeros like}\n",
        "5. Return a new array of ones with same shape and type as a given array.{Hint: np.ones like}\n",
        "6. For an existing list new_list = [1,2,3,4] convert to an numpy array.{Hint: np.array()}"
      ],
      "metadata": {
        "id": "SpkFznWkrMpo"
      }
    },
    {
      "cell_type": "code",
      "execution_count": 1,
      "metadata": {
        "id": "2VVWXI10rKvB"
      },
      "outputs": [],
      "source": [
        "import numpy as np"
      ]
    },
    {
      "cell_type": "code",
      "source": [
        "#task1\n",
        "empty_array = np.empty((2,2))\n",
        "print(empty_array)"
      ],
      "metadata": {
        "colab": {
          "base_uri": "https://localhost:8080/"
        },
        "id": "AdwDkaeurX7U",
        "outputId": "83a118b2-2b87-40a6-f0b3-57b8efe517ef"
      },
      "execution_count": 3,
      "outputs": [
        {
          "output_type": "stream",
          "name": "stdout",
          "text": [
            "[[4.73135210e-310 0.00000000e+000]\n",
            " [6.91444561e-310 6.91444561e-310]]\n"
          ]
        }
      ]
    },
    {
      "cell_type": "code",
      "source": [
        "#task2\n",
        "ones_array = np.ones((4,2))\n",
        "print(ones_array)"
      ],
      "metadata": {
        "colab": {
          "base_uri": "https://localhost:8080/"
        },
        "id": "w3a38r0KshDv",
        "outputId": "8a25bf11-557d-49dc-cdbf-052c306a8f06"
      },
      "execution_count": 5,
      "outputs": [
        {
          "output_type": "stream",
          "name": "stdout",
          "text": [
            "[[1. 1.]\n",
            " [1. 1.]\n",
            " [1. 1.]\n",
            " [1. 1.]]\n"
          ]
        }
      ]
    },
    {
      "cell_type": "code",
      "source": [
        "#task3\n",
        "fill_value = np.full((3,4),3)#np.fill(row,column),number value\n",
        "print(fill_value)"
      ],
      "metadata": {
        "colab": {
          "base_uri": "https://localhost:8080/"
        },
        "id": "N6m-WEj-s2wn",
        "outputId": "e41930f5-bda0-4a98-faea-78b6edb2b253"
      },
      "execution_count": 7,
      "outputs": [
        {
          "output_type": "stream",
          "name": "stdout",
          "text": [
            "[[3 3 3 3]\n",
            " [3 3 3 3]\n",
            " [3 3 3 3]]\n"
          ]
        }
      ]
    },
    {
      "cell_type": "code",
      "source": [
        "#task4\n",
        "array = np.array([[1,3,4],[2,5,7]])\n",
        "zeros_array = np.zeros_like(array)\n",
        "print(zeros_array)"
      ],
      "metadata": {
        "colab": {
          "base_uri": "https://localhost:8080/"
        },
        "id": "rNHToyoTudTo",
        "outputId": "aba2be96-9bfa-4b94-a322-006d65e7c4f5"
      },
      "execution_count": 14,
      "outputs": [
        {
          "output_type": "stream",
          "name": "stdout",
          "text": [
            "[[0 0 0]\n",
            " [0 0 0]]\n"
          ]
        }
      ]
    },
    {
      "cell_type": "code",
      "source": [
        "#task5\n",
        "array = np.array([[1,6,9,4], [2,4,6,8]])#make array\n",
        "ones_array = np.ones_like(array)#use np.ones_like to made array\n",
        "print(ones_array)"
      ],
      "metadata": {
        "colab": {
          "base_uri": "https://localhost:8080/"
        },
        "id": "sCCRpVSQwZBF",
        "outputId": "2df02790-1150-4fa1-c77b-f9a6882d5cec"
      },
      "execution_count": 18,
      "outputs": [
        {
          "output_type": "stream",
          "name": "stdout",
          "text": [
            "[[1 1 1 1]\n",
            " [1 1 1 1]]\n"
          ]
        }
      ]
    },
    {
      "cell_type": "code",
      "source": [
        "#task6\n",
        "new_list = [1,2,3,4]\n",
        "numpy_array = np.array(new_list)\n",
        "print(numpy_array)"
      ],
      "metadata": {
        "colab": {
          "base_uri": "https://localhost:8080/"
        },
        "id": "rBbRhc2zxzRz",
        "outputId": "d02b604b-73c7-47fc-9ea2-46f00aeed9ea"
      },
      "execution_count": 19,
      "outputs": [
        {
          "output_type": "stream",
          "name": "stdout",
          "text": [
            "[1 2 3 4]\n"
          ]
        }
      ]
    },
    {
      "cell_type": "markdown",
      "source": [
        "4.1.1 Problem - 2: Array Manipulation: Numerical Ranges and Array indexing:\n",
        "Complete the following tasks:\n",
        "1. Create an array with values ranging from 10 to 49. {Hint:np.arrange()}.\n",
        "2. Create a 3X3 matrix with values ranging from 0 to 8.\n",
        "{Hint:look for np.reshape()}\n",
        "3. Create a 3X3 identity matrix.{Hint:np.eye()}\n",
        "4. Create a random array of size 30 and find the mean of the array.\n",
        "{Hint:check for np.random.random() and array.mean() function}\n",
        "5. Create a 10X10 array with random values and find the minimum and maximum values.\n",
        "6. Create a zero array of size 10 and replace 5th element with 1.\n",
        "7. Reverse an array arr = [1,2,0,0,4,0].\n",
        "8. Create a 2d array with 1 on border and 0 inside.\n",
        "9. Create a 8X8 matrix and fill it with a checkerboard pattern."
      ],
      "metadata": {
        "id": "S8myH13Iyr6y"
      }
    },
    {
      "cell_type": "code",
      "source": [
        "import numpy as np"
      ],
      "metadata": {
        "id": "-jy4gVeWzYyH"
      },
      "execution_count": 23,
      "outputs": []
    },
    {
      "cell_type": "code",
      "source": [
        "#task1\n",
        "array = np.arange(10, 50)\n",
        "print(array)"
      ],
      "metadata": {
        "colab": {
          "base_uri": "https://localhost:8080/"
        },
        "id": "tHmXNfTDytIG",
        "outputId": "e7b29e3d-16ae-44b2-b4c5-059fc167c669"
      },
      "execution_count": 25,
      "outputs": [
        {
          "output_type": "stream",
          "name": "stdout",
          "text": [
            "[10 11 12 13 14 15 16 17 18 19 20 21 22 23 24 25 26 27 28 29 30 31 32 33\n",
            " 34 35 36 37 38 39 40 41 42 43 44 45 46 47 48 49]\n"
          ]
        }
      ]
    },
    {
      "cell_type": "code",
      "source": [
        "#task2\n",
        "matrix = np.arange(0,9)\n",
        "reshape = matrix.reshape(3,3)\n",
        "print(reshape)"
      ],
      "metadata": {
        "colab": {
          "base_uri": "https://localhost:8080/"
        },
        "id": "4_t0_pYTzvAr",
        "outputId": "2679c97b-5965-48d4-c673-488dc433324a"
      },
      "execution_count": 30,
      "outputs": [
        {
          "output_type": "stream",
          "name": "stdout",
          "text": [
            "[[0 1 2]\n",
            " [3 4 5]\n",
            " [6 7 8]]\n"
          ]
        }
      ]
    },
    {
      "cell_type": "code",
      "source": [
        "#task3\n",
        "matrix = np.eye(3)\n",
        "print(matrix)"
      ],
      "metadata": {
        "colab": {
          "base_uri": "https://localhost:8080/"
        },
        "id": "2IvftShn1FF3",
        "outputId": "6e10f59d-249e-49b9-c914-d2b09d4a3a2b"
      },
      "execution_count": 33,
      "outputs": [
        {
          "output_type": "stream",
          "name": "stdout",
          "text": [
            "[[1. 0. 0.]\n",
            " [0. 1. 0.]\n",
            " [0. 0. 1.]]\n"
          ]
        }
      ]
    },
    {
      "cell_type": "code",
      "source": [
        "#task4\n",
        "random = np.random.random(30)\n",
        "mean = array.mean()\n",
        "print(random)\n",
        "print(mean)"
      ],
      "metadata": {
        "colab": {
          "base_uri": "https://localhost:8080/"
        },
        "id": "QbsgzK-j1b31",
        "outputId": "d6df23c6-8fc5-4ab0-a6d5-a1992ab6a19e"
      },
      "execution_count": 36,
      "outputs": [
        {
          "output_type": "stream",
          "name": "stdout",
          "text": [
            "[0.53667457 0.13084173 0.02660714 0.53515793 0.14263483 0.60995279\n",
            " 0.88172863 0.86377087 0.3742285  0.67924289 0.72310622 0.04061684\n",
            " 0.45732639 0.58285561 0.46046611 0.02847862 0.60458027 0.29224015\n",
            " 0.65797484 0.67370908 0.85231354 0.59400839 0.27571238 0.0462732\n",
            " 0.40424292 0.18583807 0.05951801 0.86393847 0.00667088 0.61096718]\n",
            "29.5\n"
          ]
        }
      ]
    },
    {
      "cell_type": "code",
      "source": [
        "#task5\n",
        "array = np.random.random(10)\n",
        "minimum = np.min(array)\n",
        "maximum = np.max(array)\n",
        "print(array)\n",
        "print(minimum)\n",
        "print(maximum)"
      ],
      "metadata": {
        "colab": {
          "base_uri": "https://localhost:8080/"
        },
        "id": "bxpjDfoQ2N4a",
        "outputId": "9b08770b-4866-4a7a-e318-04a3865abd81"
      },
      "execution_count": 44,
      "outputs": [
        {
          "output_type": "stream",
          "name": "stdout",
          "text": [
            "[0.95975314 0.77283502 0.91830458 0.49484354 0.43272917 0.76547282\n",
            " 0.75282491 0.10628075 0.78677356 0.25336181]\n",
            "0.1062807475948564\n",
            "0.959753136864893\n"
          ]
        }
      ]
    },
    {
      "cell_type": "code",
      "source": [
        "#task6\n",
        "array = np.zeros(10)\n",
        "array[4] = 1\n",
        "print(array)"
      ],
      "metadata": {
        "colab": {
          "base_uri": "https://localhost:8080/"
        },
        "id": "79biAltD3M1o",
        "outputId": "93ac619b-6f4c-42e8-839b-cb787f445e6c"
      },
      "execution_count": 48,
      "outputs": [
        {
          "output_type": "stream",
          "name": "stdout",
          "text": [
            "[0. 0. 0. 0. 1. 0. 0. 0. 0. 0.]\n"
          ]
        }
      ]
    },
    {
      "cell_type": "code",
      "source": [
        "#task7\n",
        "arr = [1,2,0,0,4,0]\n",
        "reverse = arr[::-1]\n",
        "print(reverse)"
      ],
      "metadata": {
        "colab": {
          "base_uri": "https://localhost:8080/"
        },
        "id": "_QkYiI5V5MB6",
        "outputId": "85d104e9-6a85-49d0-bb40-cc0d3f3d0f27"
      },
      "execution_count": 58,
      "outputs": [
        {
          "output_type": "stream",
          "name": "stdout",
          "text": [
            "[0, 4, 0, 0, 2, 1]\n"
          ]
        }
      ]
    },
    {
      "cell_type": "code",
      "source": [
        "#task8\n",
        "array = np.ones((3,3))\n",
        "array [1:-1,1:-1] = 0\n",
        "print(array)"
      ],
      "metadata": {
        "colab": {
          "base_uri": "https://localhost:8080/"
        },
        "id": "JcPtKPVT6R-6",
        "outputId": "49c58531-c9ff-4948-90e1-99c59595a63c"
      },
      "execution_count": 59,
      "outputs": [
        {
          "output_type": "stream",
          "name": "stdout",
          "text": [
            "[[1. 1. 1.]\n",
            " [1. 0. 1.]\n",
            " [1. 1. 1.]]\n"
          ]
        }
      ]
    },
    {
      "cell_type": "code",
      "source": [
        "#task9\n",
        "array = np.zeros((8,8))\n",
        "array [1::2, ::2] = 1\n",
        "array [::2, 1::2] = 1\n",
        "print(array)"
      ],
      "metadata": {
        "colab": {
          "base_uri": "https://localhost:8080/"
        },
        "id": "-r2HEl6T7fVk",
        "outputId": "63c83501-9c45-448c-95ff-b8d50cab3b79"
      },
      "execution_count": 65,
      "outputs": [
        {
          "output_type": "stream",
          "name": "stdout",
          "text": [
            "[[0. 1. 0. 1. 0. 1. 0. 1.]\n",
            " [1. 0. 1. 0. 1. 0. 1. 0.]\n",
            " [0. 1. 0. 1. 0. 1. 0. 1.]\n",
            " [1. 0. 1. 0. 1. 0. 1. 0.]\n",
            " [0. 1. 0. 1. 0. 1. 0. 1.]\n",
            " [1. 0. 1. 0. 1. 0. 1. 0.]\n",
            " [0. 1. 0. 1. 0. 1. 0. 1.]\n",
            " [1. 0. 1. 0. 1. 0. 1. 0.]]\n"
          ]
        }
      ]
    },
    {
      "cell_type": "markdown",
      "source": [
        "Problem - 3: Array Operations:\n",
        "For the following arrays:\n",
        "x = np.array([[1,2],[3,5]]) and y = np.array([[5,6],[7,8]]);\n",
        "v = np.array([9,10]) and w = np.array([11,12]);\n",
        "Complete all the task using numpy:\n",
        "1. Add the two array.\n",
        "2. Subtract the two array.\n",
        "3. Multiply the array with any integers of your choice.\n",
        "4. Find the square of each element of the array.\n",
        "5. Find the dot product between: v(and)w ; x(and)v ; x(and)y.\n",
        "6. Concatenate x(and)y along row and Concatenate v(and)w along column.\n",
        "{Hint:try np.concatenate() or np.vstack() functions.\n",
        "7. Concatenate x(and)v; if you get an error, observe and explain why did you get the error?"
      ],
      "metadata": {
        "id": "jK--EASA8-ij"
      }
    },
    {
      "cell_type": "code",
      "source": [
        "import numpy as np\n",
        "x = np.array([[1,2], [3,5]])\n",
        "y = np.array([[5,6], [7,8]])\n",
        "v = np.array([9,10])\n",
        "w = np.array([11, 12])"
      ],
      "metadata": {
        "id": "ZkUq4KQi9AWR"
      },
      "execution_count": 67,
      "outputs": []
    },
    {
      "cell_type": "code",
      "source": [
        "#task1\n",
        "addition = x+y\n",
        "print(addition)"
      ],
      "metadata": {
        "colab": {
          "base_uri": "https://localhost:8080/"
        },
        "id": "CmKokT9s9g8x",
        "outputId": "27440942-acfc-42e9-feb8-a91f90b35721"
      },
      "execution_count": 68,
      "outputs": [
        {
          "output_type": "stream",
          "name": "stdout",
          "text": [
            "[[ 6  8]\n",
            " [10 13]]\n"
          ]
        }
      ]
    },
    {
      "cell_type": "code",
      "source": [
        "#task2\n",
        "subraction = w-v\n",
        "print(subraction)"
      ],
      "metadata": {
        "colab": {
          "base_uri": "https://localhost:8080/"
        },
        "id": "Vv0AmxLB93Oe",
        "outputId": "e389ff22-ae47-4496-aa47-3e3b4305a684"
      },
      "execution_count": 69,
      "outputs": [
        {
          "output_type": "stream",
          "name": "stdout",
          "text": [
            "[2 2]\n"
          ]
        }
      ]
    },
    {
      "cell_type": "code",
      "source": [
        "#task3\n",
        "print (2*x)"
      ],
      "metadata": {
        "colab": {
          "base_uri": "https://localhost:8080/"
        },
        "id": "Kc4akqbU_4xq",
        "outputId": "b18def29-19dd-4415-b177-7cabe4b47472"
      },
      "execution_count": 70,
      "outputs": [
        {
          "output_type": "stream",
          "name": "stdout",
          "text": [
            "[[ 2  4]\n",
            " [ 6 10]]\n"
          ]
        }
      ]
    },
    {
      "cell_type": "code",
      "source": [
        "#task4\n",
        "print (x**2)"
      ],
      "metadata": {
        "colab": {
          "base_uri": "https://localhost:8080/"
        },
        "id": "CjLgspA1AHLF",
        "outputId": "4fa44a7d-ca21-4908-800b-86e63c60da70"
      },
      "execution_count": 72,
      "outputs": [
        {
          "output_type": "stream",
          "name": "stdout",
          "text": [
            "[[ 1  4]\n",
            " [ 9 25]]\n"
          ]
        }
      ]
    },
    {
      "cell_type": "code",
      "source": [
        "#task5\n",
        "vw = np.dot(v, w)\n",
        "xv =np.dot(x, v)\n",
        "xy = np.dot(x, y)\n",
        "\n",
        "print(vw)\n",
        "print(xv)\n",
        "print(xy)"
      ],
      "metadata": {
        "colab": {
          "base_uri": "https://localhost:8080/"
        },
        "id": "4-cXmlqNAh1T",
        "outputId": "0f85aa2c-39e1-4d01-ebd2-8423aba7d834"
      },
      "execution_count": 73,
      "outputs": [
        {
          "output_type": "stream",
          "name": "stdout",
          "text": [
            "219\n",
            "[29 77]\n",
            "[[19 22]\n",
            " [50 58]]\n"
          ]
        }
      ]
    },
    {
      "cell_type": "code",
      "source": [
        "#task6\n",
        "along_row = np.concatenate((x,y), axis =1)\n",
        "print(along_row)\n",
        "along_column = np.concatenate ((v[:, np.newaxis], w[:, np.newaxis]), axis =1)\n",
        "print(along_column)"
      ],
      "metadata": {
        "colab": {
          "base_uri": "https://localhost:8080/"
        },
        "id": "Zk94VquNBkEz",
        "outputId": "66fcf993-2602-4c67-bf89-ba3e5f0efcc5"
      },
      "execution_count": 75,
      "outputs": [
        {
          "output_type": "stream",
          "name": "stdout",
          "text": [
            "[[1 2 5 6]\n",
            " [3 5 7 8]]\n",
            "[[ 9 11]\n",
            " [10 12]]\n"
          ]
        }
      ]
    },
    {
      "cell_type": "code",
      "source": [
        "#task7\n",
        "try:\n",
        "  concatenateXV = np.concatenate((x, v), axis = 1)\n",
        "  print(concatenateXV)\n",
        "except Exception as e:\n",
        "  print(e)"
      ],
      "metadata": {
        "colab": {
          "base_uri": "https://localhost:8080/"
        },
        "id": "SmIPPmkDFcWD",
        "outputId": "c26ad3ae-ec77-44ad-8de3-d3b4fa8dc093"
      },
      "execution_count": 77,
      "outputs": [
        {
          "output_type": "stream",
          "name": "stdout",
          "text": [
            "all the input arrays must have same number of dimensions, but the array at index 0 has 2 dimension(s) and the array at index 1 has 1 dimension(s)\n"
          ]
        }
      ]
    },
    {
      "cell_type": "markdown",
      "source": [
        "Problem - 4: Matrix Operations:\n",
        "• For the following arrays:\n",
        "A = np.array([[3,4],[7,8]]) and B = np.array([[5,3],[2,1]]);\n",
        "Prove following with Numpy:\n",
        "1. Prove A.A−1 = I.\n",
        "2. Prove AB ̸= BA.\n",
        "3. Prove (AB)T = BTAT\n",
        ".\n",
        "\n",
        "• Solve the following system of Linear equation using Inverse Methods.\n",
        "\n",
        "2x − 3y + z = −1\n",
        "x − y + 2z = −3\n",
        "3x + y − z = 9\n",
        "\n",
        "{Hint: First use Numpy array to represent the equation in Matrix form. Then Solve for: AX = B}\n",
        "• Now: solve the above equation using np.linalg.inv function.{Explore more about ”linalg” function\n",
        "of Numpy}"
      ],
      "metadata": {
        "id": "1ntnW7jGGbDS"
      }
    },
    {
      "cell_type": "code",
      "source": [
        "import numpy as np"
      ],
      "metadata": {
        "id": "qvUbBml0Gck1"
      },
      "execution_count": 78,
      "outputs": []
    },
    {
      "cell_type": "code",
      "source": [
        "a = np.array([[3,4], [7,8]])\n",
        "b = np.array([[5,3],[2,1]])"
      ],
      "metadata": {
        "id": "6ZNMWvYYG0yO"
      },
      "execution_count": 79,
      "outputs": []
    },
    {
      "cell_type": "code",
      "source": [
        "#task1\n",
        "inverse = np.linalg.inv(a)\n",
        "matrix = np.dot(inverse, a)\n",
        "print(matrix)"
      ],
      "metadata": {
        "colab": {
          "base_uri": "https://localhost:8080/"
        },
        "id": "ZNvmCVEdHB6A",
        "outputId": "7639e1a9-87a9-4fbd-817a-e4d87abfe570"
      },
      "execution_count": 83,
      "outputs": [
        {
          "output_type": "stream",
          "name": "stdout",
          "text": [
            "[[1.00000000e+00 0.00000000e+00]\n",
            " [5.55111512e-16 1.00000000e+00]]\n"
          ]
        }
      ]
    },
    {
      "cell_type": "code",
      "source": [
        "#task2\n",
        "ab = np.dot(a,b)\n",
        "ba = np.dot(b,a)\n",
        "print(ab)\n",
        "print(ba)"
      ],
      "metadata": {
        "colab": {
          "base_uri": "https://localhost:8080/"
        },
        "id": "hlPVg30HIRRA",
        "outputId": "a0020ea8-8cce-427b-f4e6-bec4882b38fc"
      },
      "execution_count": 84,
      "outputs": [
        {
          "output_type": "stream",
          "name": "stdout",
          "text": [
            "[[23 13]\n",
            " [51 29]]\n",
            "[[36 44]\n",
            " [13 16]]\n"
          ]
        }
      ]
    },
    {
      "cell_type": "code",
      "source": [
        "#task3\n",
        "abT = np.transpose(np.dot(a,b))\n",
        "bTaT = np.dot(np.transpose(b), (np.transpose(a)))\n",
        "print(abT)\n",
        "print(bTaT)"
      ],
      "metadata": {
        "colab": {
          "base_uri": "https://localhost:8080/"
        },
        "id": "F9ya3W4vIn81",
        "outputId": "d041d5b3-86c0-4a07-8372-93aa98942f98"
      },
      "execution_count": 88,
      "outputs": [
        {
          "output_type": "stream",
          "name": "stdout",
          "text": [
            "[[23 51]\n",
            " [13 29]]\n",
            "[[23 51]\n",
            " [13 29]]\n"
          ]
        }
      ]
    },
    {
      "cell_type": "code",
      "source": [
        "#solve eqn\n",
        "a = np.array([[2, -3, 1], [1, -2, 1], [3, 1, -1]])\n",
        "b = np.array([1, -3, 9])\n",
        "inverseA = np.linalg.inv(a)\n",
        "x = np.dot(inverseA, b)\n",
        "print(x)"
      ],
      "metadata": {
        "colab": {
          "base_uri": "https://localhost:8080/"
        },
        "id": "dVKlLZ8HJqJ7",
        "outputId": "1c9b6678-2485-4663-da98-b7ef35270740"
      },
      "execution_count": 93,
      "outputs": [
        {
          "output_type": "stream",
          "name": "stdout",
          "text": [
            "[  0.66666667  -3.33333333 -10.33333333]\n"
          ]
        }
      ]
    },
    {
      "cell_type": "markdown",
      "source": [
        "4.2 Experiment: How Fast is Numpy?\n",
        "In this exercise, you will compare the performance and implementation of operations using plain Python\n",
        "lists (arrays) and NumPy arrays. Follow the instructions:\n",
        "1. Element-wise Addition:\n",
        "• Using Python Lists, perform element-wise addition of two lists of size 1, 000, 000. Measure\n",
        "and Print the time taken for this operation.\n",
        "• Using Numpy Arrays, Repeat the calculation and measure and print the time taken for this\n",
        "operation.\n",
        "2. Element-wise Multiplication\n",
        "\n",
        "• Using Python Lists, perform element-wise multiplication of two lists of size 1, 000, 000. Mea-\n",
        "sure and Print the time taken for this operation.\n",
        "\n",
        "• Using Numpy Arrays, Repeat the calculation and measure and print the time taken for this\n",
        "operation.\n",
        "3. Dot Product\n",
        "• Using Python Lists, compute the dot product of two lists of size 1, 000, 000. Measure and\n",
        "Print the time taken for this operation.\n",
        "• Using Numpy Arrays, Repeat the calculation and measure and print the time taken for this\n",
        "operation.\n",
        "4. Matrix Multiplication\n",
        "• Using Python lists, perform matrix multiplication of two matrices of size 1000x1000. Measure\n",
        "and print the time taken for this operation.\n",
        "\n",
        "• Using NumPy arrays, perform matrix multiplication of two matrices of size 1000x1000. Mea-\n",
        "sure and print the time taken for this operation.\n",
        "\n",
        "————————– The - End ————————-"
      ],
      "metadata": {
        "id": "nBgdDWf2Ljxc"
      }
    },
    {
      "cell_type": "code",
      "source": [
        "#task1\n",
        "import time\n",
        "import numpy as np"
      ],
      "metadata": {
        "id": "mtaH72PzLk3_"
      },
      "execution_count": 5,
      "outputs": []
    },
    {
      "cell_type": "code",
      "source": [
        "#task1\n",
        "def add():\n",
        " list1 = [i for i in range (1000000)]\n",
        " list2 = [i for i in range (1000000)]\n",
        "\n",
        " start = time.time()\n",
        " result = [list1[i] + list2[i] for i in range(1000000)]\n",
        " end = time.time()\n",
        " return end - start\n",
        "\n",
        "def numpy_array_add():\n",
        "  arr1 = np.arange(1000000)\n",
        "  arr2 = np.arange(1000000)\n",
        "\n",
        "  start = time.time()\n",
        "  result = arr1 + arr2\n",
        "  end = time.time()\n",
        "  return end - start\n",
        "\n",
        "print(add())\n",
        "print(numpy_array_add())"
      ],
      "metadata": {
        "colab": {
          "base_uri": "https://localhost:8080/"
        },
        "id": "tBaNpE7bLuAD",
        "outputId": "6ad8ff2c-b2f0-4687-dda7-0e8d97ff91eb"
      },
      "execution_count": 6,
      "outputs": [
        {
          "output_type": "stream",
          "name": "stdout",
          "text": [
            "0.12842702865600586\n",
            "0.002227306365966797\n"
          ]
        }
      ]
    },
    {
      "cell_type": "code",
      "source": [
        "#task2\n",
        "def multiply():\n",
        " list1 = [i for i in range (1000000)]\n",
        " list2 = [i for i in range (1000000)]\n",
        "\n",
        " start = time.time()\n",
        " result = [list1[i] * list2[i] for i in range(1000000)]\n",
        " end = time.time()\n",
        " return end - start\n",
        "\n",
        "def numpy_array_multiply():\n",
        "  arr1 = np.arange(1000000)\n",
        "  arr2 = np.arange(1000000)\n",
        "\n",
        "  start = time.time()\n",
        "  result = arr1 * arr2\n",
        "  end = time.time()\n",
        "  return end - start\n",
        "\n",
        "print(multiply())\n",
        "print(numpy_array_multiply())"
      ],
      "metadata": {
        "colab": {
          "base_uri": "https://localhost:8080/"
        },
        "id": "WCM89WfhVyec",
        "outputId": "9a56fcf5-3772-4fe6-ed51-a3448b1cbb60"
      },
      "execution_count": 7,
      "outputs": [
        {
          "output_type": "stream",
          "name": "stdout",
          "text": [
            "0.12632417678833008\n",
            "0.002208709716796875\n"
          ]
        }
      ]
    },
    {
      "cell_type": "code",
      "source": [
        "#task3\n",
        "def dot():\n",
        "  list1 = [i for i in range(1000000)]\n",
        "  list2 = [i for i in range(1000000)]\n",
        "  start = time.time()\n",
        "  result = sum(list1[i] * list2[i] for i in range(1000000))\n",
        "  end = time.time()\n",
        "  return end - start\n",
        "\n",
        "def numpy_dot():\n",
        "  arr1 = np.arange(1000000)\n",
        "  arr2 = np.arange(1000000)\n",
        "  start = time.time()\n",
        "  result = np.dot(arr1, arr2)\n",
        "  end = time.time()\n",
        "  return end - start\n",
        "\n",
        "print(dot())\n",
        "print(numpy_dot())"
      ],
      "metadata": {
        "colab": {
          "base_uri": "https://localhost:8080/"
        },
        "id": "dmmcoZqSXp7A",
        "outputId": "0cf22a0a-8cf3-480c-86b5-3797600de52d"
      },
      "execution_count": 8,
      "outputs": [
        {
          "output_type": "stream",
          "name": "stdout",
          "text": [
            "0.142897367477417\n",
            "0.001603841781616211\n"
          ]
        }
      ]
    },
    {
      "cell_type": "code",
      "source": [
        "#task4\n",
        "def matrix_multiply():\n",
        "  matrix1 = [[i for i in range(100)] for j in range(100)]\n",
        "  matrix2 = [[i for i in range(100)] for j in range(100)]\n",
        "  start = time.time()\n",
        "  result = [[sum(matrix1[i][k] * matrix2[k][j] for k in range(100)) for j in range (100)] for i in range(100)]\n",
        "  end = time.time()\n",
        "  return end - start\n",
        "\n",
        "def numpy_matrix_multiply():\n",
        "  matrix1 = np.random.rand(100, 100)\n",
        "  matrix2 = np.random.rand(100, 100)\n",
        "  start = time.time()\n",
        "  result = np.dot(matrix1, matrix2)\n",
        "  end = time.time()\n",
        "  return end - start\n",
        "\n",
        "print(matrix_multiply())\n",
        "print(numpy_matrix_multiply())"
      ],
      "metadata": {
        "colab": {
          "base_uri": "https://localhost:8080/"
        },
        "id": "HyLqVFAMazsA",
        "outputId": "0c751aea-d2c0-4dae-f61b-29fb6b1cde75"
      },
      "execution_count": 13,
      "outputs": [
        {
          "output_type": "stream",
          "name": "stdout",
          "text": [
            "0.15940594673156738\n",
            "0.00020432472229003906\n"
          ]
        }
      ]
    }
  ]
}