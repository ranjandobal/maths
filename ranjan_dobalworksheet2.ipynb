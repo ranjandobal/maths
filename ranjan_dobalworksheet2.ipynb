{
  "nbformat": 4,
  "nbformat_minor": 0,
  "metadata": {
    "colab": {
      "provenance": []
    },
    "kernelspec": {
      "name": "python3",
      "display_name": "Python 3"
    },
    "language_info": {
      "name": "python"
    }
  },
  "cells": [
    {
      "cell_type": "code",
      "execution_count": null,
      "metadata": {
        "id": "qLqdtIREfKo2"
      },
      "outputs": [],
      "source": [
        "import pandas as pd\n"
      ]
    },
    {
      "cell_type": "markdown",
      "source": [
        "3.1 Warming Up Exercises - Basic Inspection and Exploration:\n",
        "Problem 1 - Data Read, Write and Inspect:\n",
        "Complete all following Task:\n",
        "• Dataset for the Task: \"bank.csv\"\n",
        "1. Load the provided dataset and import in pandas DataFrame.\n",
        "2. Check info of the DataFrame and identify following:\n",
        "(a) columns with dtypes=object\n",
        "(b) unique values of those columns.\n",
        "(c) check for the total number of null values in each column."
      ],
      "metadata": {
        "id": "0W6bZn8BmgJG"
      }
    },
    {
      "cell_type": "code",
      "source": [
        "import pandas as pd\n",
        "df = pd.read_csv(\"/content/drive/MyDrive/python/bank .csv\")\n",
        "#column with dttypes=object\n",
        "df.describe()\n",
        "\n"
      ],
      "metadata": {
        "colab": {
          "base_uri": "https://localhost:8080/",
          "height": 300
        },
        "id": "c2UDTpXTmfVN",
        "outputId": "92d288b1-e2a1-4842-9569-119ece8d0c7a"
      },
      "execution_count": 6,
      "outputs": [
        {
          "output_type": "execute_result",
          "data": {
            "text/plain": [
              "                age        balance           day      duration      campaign  \\\n",
              "count  45211.000000   45211.000000  45211.000000  45211.000000  45211.000000   \n",
              "mean      40.936210    1362.272058     15.806419    258.163080      2.763841   \n",
              "std       10.618762    3044.765829      8.322476    257.527812      3.098021   \n",
              "min       18.000000   -8019.000000      1.000000      0.000000      1.000000   \n",
              "25%       33.000000      72.000000      8.000000    103.000000      1.000000   \n",
              "50%       39.000000     448.000000     16.000000    180.000000      2.000000   \n",
              "75%       48.000000    1428.000000     21.000000    319.000000      3.000000   \n",
              "max       95.000000  102127.000000     31.000000   4918.000000     63.000000   \n",
              "\n",
              "              pdays      previous  \n",
              "count  45211.000000  45211.000000  \n",
              "mean      40.197828      0.580323  \n",
              "std      100.128746      2.303441  \n",
              "min       -1.000000      0.000000  \n",
              "25%       -1.000000      0.000000  \n",
              "50%       -1.000000      0.000000  \n",
              "75%       -1.000000      0.000000  \n",
              "max      871.000000    275.000000  "
            ],
            "text/html": [
              "\n",
              "  <div id=\"df-3efbe7e9-78d3-4c0e-9fda-112edbe4d6e6\" class=\"colab-df-container\">\n",
              "    <div>\n",
              "<style scoped>\n",
              "    .dataframe tbody tr th:only-of-type {\n",
              "        vertical-align: middle;\n",
              "    }\n",
              "\n",
              "    .dataframe tbody tr th {\n",
              "        vertical-align: top;\n",
              "    }\n",
              "\n",
              "    .dataframe thead th {\n",
              "        text-align: right;\n",
              "    }\n",
              "</style>\n",
              "<table border=\"1\" class=\"dataframe\">\n",
              "  <thead>\n",
              "    <tr style=\"text-align: right;\">\n",
              "      <th></th>\n",
              "      <th>age</th>\n",
              "      <th>balance</th>\n",
              "      <th>day</th>\n",
              "      <th>duration</th>\n",
              "      <th>campaign</th>\n",
              "      <th>pdays</th>\n",
              "      <th>previous</th>\n",
              "    </tr>\n",
              "  </thead>\n",
              "  <tbody>\n",
              "    <tr>\n",
              "      <th>count</th>\n",
              "      <td>45211.000000</td>\n",
              "      <td>45211.000000</td>\n",
              "      <td>45211.000000</td>\n",
              "      <td>45211.000000</td>\n",
              "      <td>45211.000000</td>\n",
              "      <td>45211.000000</td>\n",
              "      <td>45211.000000</td>\n",
              "    </tr>\n",
              "    <tr>\n",
              "      <th>mean</th>\n",
              "      <td>40.936210</td>\n",
              "      <td>1362.272058</td>\n",
              "      <td>15.806419</td>\n",
              "      <td>258.163080</td>\n",
              "      <td>2.763841</td>\n",
              "      <td>40.197828</td>\n",
              "      <td>0.580323</td>\n",
              "    </tr>\n",
              "    <tr>\n",
              "      <th>std</th>\n",
              "      <td>10.618762</td>\n",
              "      <td>3044.765829</td>\n",
              "      <td>8.322476</td>\n",
              "      <td>257.527812</td>\n",
              "      <td>3.098021</td>\n",
              "      <td>100.128746</td>\n",
              "      <td>2.303441</td>\n",
              "    </tr>\n",
              "    <tr>\n",
              "      <th>min</th>\n",
              "      <td>18.000000</td>\n",
              "      <td>-8019.000000</td>\n",
              "      <td>1.000000</td>\n",
              "      <td>0.000000</td>\n",
              "      <td>1.000000</td>\n",
              "      <td>-1.000000</td>\n",
              "      <td>0.000000</td>\n",
              "    </tr>\n",
              "    <tr>\n",
              "      <th>25%</th>\n",
              "      <td>33.000000</td>\n",
              "      <td>72.000000</td>\n",
              "      <td>8.000000</td>\n",
              "      <td>103.000000</td>\n",
              "      <td>1.000000</td>\n",
              "      <td>-1.000000</td>\n",
              "      <td>0.000000</td>\n",
              "    </tr>\n",
              "    <tr>\n",
              "      <th>50%</th>\n",
              "      <td>39.000000</td>\n",
              "      <td>448.000000</td>\n",
              "      <td>16.000000</td>\n",
              "      <td>180.000000</td>\n",
              "      <td>2.000000</td>\n",
              "      <td>-1.000000</td>\n",
              "      <td>0.000000</td>\n",
              "    </tr>\n",
              "    <tr>\n",
              "      <th>75%</th>\n",
              "      <td>48.000000</td>\n",
              "      <td>1428.000000</td>\n",
              "      <td>21.000000</td>\n",
              "      <td>319.000000</td>\n",
              "      <td>3.000000</td>\n",
              "      <td>-1.000000</td>\n",
              "      <td>0.000000</td>\n",
              "    </tr>\n",
              "    <tr>\n",
              "      <th>max</th>\n",
              "      <td>95.000000</td>\n",
              "      <td>102127.000000</td>\n",
              "      <td>31.000000</td>\n",
              "      <td>4918.000000</td>\n",
              "      <td>63.000000</td>\n",
              "      <td>871.000000</td>\n",
              "      <td>275.000000</td>\n",
              "    </tr>\n",
              "  </tbody>\n",
              "</table>\n",
              "</div>\n",
              "    <div class=\"colab-df-buttons\">\n",
              "\n",
              "  <div class=\"colab-df-container\">\n",
              "    <button class=\"colab-df-convert\" onclick=\"convertToInteractive('df-3efbe7e9-78d3-4c0e-9fda-112edbe4d6e6')\"\n",
              "            title=\"Convert this dataframe to an interactive table.\"\n",
              "            style=\"display:none;\">\n",
              "\n",
              "  <svg xmlns=\"http://www.w3.org/2000/svg\" height=\"24px\" viewBox=\"0 -960 960 960\">\n",
              "    <path d=\"M120-120v-720h720v720H120Zm60-500h600v-160H180v160Zm220 220h160v-160H400v160Zm0 220h160v-160H400v160ZM180-400h160v-160H180v160Zm440 0h160v-160H620v160ZM180-180h160v-160H180v160Zm440 0h160v-160H620v160Z\"/>\n",
              "  </svg>\n",
              "    </button>\n",
              "\n",
              "  <style>\n",
              "    .colab-df-container {\n",
              "      display:flex;\n",
              "      gap: 12px;\n",
              "    }\n",
              "\n",
              "    .colab-df-convert {\n",
              "      background-color: #E8F0FE;\n",
              "      border: none;\n",
              "      border-radius: 50%;\n",
              "      cursor: pointer;\n",
              "      display: none;\n",
              "      fill: #1967D2;\n",
              "      height: 32px;\n",
              "      padding: 0 0 0 0;\n",
              "      width: 32px;\n",
              "    }\n",
              "\n",
              "    .colab-df-convert:hover {\n",
              "      background-color: #E2EBFA;\n",
              "      box-shadow: 0px 1px 2px rgba(60, 64, 67, 0.3), 0px 1px 3px 1px rgba(60, 64, 67, 0.15);\n",
              "      fill: #174EA6;\n",
              "    }\n",
              "\n",
              "    .colab-df-buttons div {\n",
              "      margin-bottom: 4px;\n",
              "    }\n",
              "\n",
              "    [theme=dark] .colab-df-convert {\n",
              "      background-color: #3B4455;\n",
              "      fill: #D2E3FC;\n",
              "    }\n",
              "\n",
              "    [theme=dark] .colab-df-convert:hover {\n",
              "      background-color: #434B5C;\n",
              "      box-shadow: 0px 1px 3px 1px rgba(0, 0, 0, 0.15);\n",
              "      filter: drop-shadow(0px 1px 2px rgba(0, 0, 0, 0.3));\n",
              "      fill: #FFFFFF;\n",
              "    }\n",
              "  </style>\n",
              "\n",
              "    <script>\n",
              "      const buttonEl =\n",
              "        document.querySelector('#df-3efbe7e9-78d3-4c0e-9fda-112edbe4d6e6 button.colab-df-convert');\n",
              "      buttonEl.style.display =\n",
              "        google.colab.kernel.accessAllowed ? 'block' : 'none';\n",
              "\n",
              "      async function convertToInteractive(key) {\n",
              "        const element = document.querySelector('#df-3efbe7e9-78d3-4c0e-9fda-112edbe4d6e6');\n",
              "        const dataTable =\n",
              "          await google.colab.kernel.invokeFunction('convertToInteractive',\n",
              "                                                    [key], {});\n",
              "        if (!dataTable) return;\n",
              "\n",
              "        const docLinkHtml = 'Like what you see? Visit the ' +\n",
              "          '<a target=\"_blank\" href=https://colab.research.google.com/notebooks/data_table.ipynb>data table notebook</a>'\n",
              "          + ' to learn more about interactive tables.';\n",
              "        element.innerHTML = '';\n",
              "        dataTable['output_type'] = 'display_data';\n",
              "        await google.colab.output.renderOutput(dataTable, element);\n",
              "        const docLink = document.createElement('div');\n",
              "        docLink.innerHTML = docLinkHtml;\n",
              "        element.appendChild(docLink);\n",
              "      }\n",
              "    </script>\n",
              "  </div>\n",
              "\n",
              "\n",
              "<div id=\"df-3bd74e47-fcea-49f8-8454-52eb9e07af55\">\n",
              "  <button class=\"colab-df-quickchart\" onclick=\"quickchart('df-3bd74e47-fcea-49f8-8454-52eb9e07af55')\"\n",
              "            title=\"Suggest charts\"\n",
              "            style=\"display:none;\">\n",
              "\n",
              "<svg xmlns=\"http://www.w3.org/2000/svg\" height=\"24px\"viewBox=\"0 0 24 24\"\n",
              "     width=\"24px\">\n",
              "    <g>\n",
              "        <path d=\"M19 3H5c-1.1 0-2 .9-2 2v14c0 1.1.9 2 2 2h14c1.1 0 2-.9 2-2V5c0-1.1-.9-2-2-2zM9 17H7v-7h2v7zm4 0h-2V7h2v10zm4 0h-2v-4h2v4z\"/>\n",
              "    </g>\n",
              "</svg>\n",
              "  </button>\n",
              "\n",
              "<style>\n",
              "  .colab-df-quickchart {\n",
              "      --bg-color: #E8F0FE;\n",
              "      --fill-color: #1967D2;\n",
              "      --hover-bg-color: #E2EBFA;\n",
              "      --hover-fill-color: #174EA6;\n",
              "      --disabled-fill-color: #AAA;\n",
              "      --disabled-bg-color: #DDD;\n",
              "  }\n",
              "\n",
              "  [theme=dark] .colab-df-quickchart {\n",
              "      --bg-color: #3B4455;\n",
              "      --fill-color: #D2E3FC;\n",
              "      --hover-bg-color: #434B5C;\n",
              "      --hover-fill-color: #FFFFFF;\n",
              "      --disabled-bg-color: #3B4455;\n",
              "      --disabled-fill-color: #666;\n",
              "  }\n",
              "\n",
              "  .colab-df-quickchart {\n",
              "    background-color: var(--bg-color);\n",
              "    border: none;\n",
              "    border-radius: 50%;\n",
              "    cursor: pointer;\n",
              "    display: none;\n",
              "    fill: var(--fill-color);\n",
              "    height: 32px;\n",
              "    padding: 0;\n",
              "    width: 32px;\n",
              "  }\n",
              "\n",
              "  .colab-df-quickchart:hover {\n",
              "    background-color: var(--hover-bg-color);\n",
              "    box-shadow: 0 1px 2px rgba(60, 64, 67, 0.3), 0 1px 3px 1px rgba(60, 64, 67, 0.15);\n",
              "    fill: var(--button-hover-fill-color);\n",
              "  }\n",
              "\n",
              "  .colab-df-quickchart-complete:disabled,\n",
              "  .colab-df-quickchart-complete:disabled:hover {\n",
              "    background-color: var(--disabled-bg-color);\n",
              "    fill: var(--disabled-fill-color);\n",
              "    box-shadow: none;\n",
              "  }\n",
              "\n",
              "  .colab-df-spinner {\n",
              "    border: 2px solid var(--fill-color);\n",
              "    border-color: transparent;\n",
              "    border-bottom-color: var(--fill-color);\n",
              "    animation:\n",
              "      spin 1s steps(1) infinite;\n",
              "  }\n",
              "\n",
              "  @keyframes spin {\n",
              "    0% {\n",
              "      border-color: transparent;\n",
              "      border-bottom-color: var(--fill-color);\n",
              "      border-left-color: var(--fill-color);\n",
              "    }\n",
              "    20% {\n",
              "      border-color: transparent;\n",
              "      border-left-color: var(--fill-color);\n",
              "      border-top-color: var(--fill-color);\n",
              "    }\n",
              "    30% {\n",
              "      border-color: transparent;\n",
              "      border-left-color: var(--fill-color);\n",
              "      border-top-color: var(--fill-color);\n",
              "      border-right-color: var(--fill-color);\n",
              "    }\n",
              "    40% {\n",
              "      border-color: transparent;\n",
              "      border-right-color: var(--fill-color);\n",
              "      border-top-color: var(--fill-color);\n",
              "    }\n",
              "    60% {\n",
              "      border-color: transparent;\n",
              "      border-right-color: var(--fill-color);\n",
              "    }\n",
              "    80% {\n",
              "      border-color: transparent;\n",
              "      border-right-color: var(--fill-color);\n",
              "      border-bottom-color: var(--fill-color);\n",
              "    }\n",
              "    90% {\n",
              "      border-color: transparent;\n",
              "      border-bottom-color: var(--fill-color);\n",
              "    }\n",
              "  }\n",
              "</style>\n",
              "\n",
              "  <script>\n",
              "    async function quickchart(key) {\n",
              "      const quickchartButtonEl =\n",
              "        document.querySelector('#' + key + ' button');\n",
              "      quickchartButtonEl.disabled = true;  // To prevent multiple clicks.\n",
              "      quickchartButtonEl.classList.add('colab-df-spinner');\n",
              "      try {\n",
              "        const charts = await google.colab.kernel.invokeFunction(\n",
              "            'suggestCharts', [key], {});\n",
              "      } catch (error) {\n",
              "        console.error('Error during call to suggestCharts:', error);\n",
              "      }\n",
              "      quickchartButtonEl.classList.remove('colab-df-spinner');\n",
              "      quickchartButtonEl.classList.add('colab-df-quickchart-complete');\n",
              "    }\n",
              "    (() => {\n",
              "      let quickchartButtonEl =\n",
              "        document.querySelector('#df-3bd74e47-fcea-49f8-8454-52eb9e07af55 button');\n",
              "      quickchartButtonEl.style.display =\n",
              "        google.colab.kernel.accessAllowed ? 'block' : 'none';\n",
              "    })();\n",
              "  </script>\n",
              "</div>\n",
              "\n",
              "    </div>\n",
              "  </div>\n"
            ],
            "application/vnd.google.colaboratory.intrinsic+json": {
              "type": "dataframe",
              "summary": "{\n  \"name\": \"df\",\n  \"rows\": 8,\n  \"fields\": [\n    {\n      \"column\": \"age\",\n      \"properties\": {\n        \"dtype\": \"number\",\n        \"std\": 15970.150201692022,\n        \"min\": 10.618762040975431,\n        \"max\": 45211.0,\n        \"num_unique_values\": 8,\n        \"samples\": [\n          40.93621021432837,\n          39.0,\n          45211.0\n        ],\n        \"semantic_type\": \"\",\n        \"description\": \"\"\n      }\n    },\n    {\n      \"column\": \"balance\",\n      \"properties\": {\n        \"dtype\": \"number\",\n        \"std\": 37605.126555585215,\n        \"min\": -8019.0,\n        \"max\": 102127.0,\n        \"num_unique_values\": 8,\n        \"samples\": [\n          1362.2720576850766,\n          448.0,\n          45211.0\n        ],\n        \"semantic_type\": \"\",\n        \"description\": \"\"\n      }\n    },\n    {\n      \"column\": \"day\",\n      \"properties\": {\n        \"dtype\": \"number\",\n        \"std\": 15979.397159121005,\n        \"min\": 1.0,\n        \"max\": 45211.0,\n        \"num_unique_values\": 8,\n        \"samples\": [\n          15.80641879188693,\n          16.0,\n          45211.0\n        ],\n        \"semantic_type\": \"\",\n        \"description\": \"\"\n      }\n    },\n    {\n      \"column\": \"duration\",\n      \"properties\": {\n        \"dtype\": \"number\",\n        \"std\": 15767.149700866448,\n        \"min\": 0.0,\n        \"max\": 45211.0,\n        \"num_unique_values\": 8,\n        \"samples\": [\n          258.1630797814691,\n          180.0,\n          45211.0\n        ],\n        \"semantic_type\": \"\",\n        \"description\": \"\"\n      }\n    },\n    {\n      \"column\": \"campaign\",\n      \"properties\": {\n        \"dtype\": \"number\",\n        \"std\": 15980.684949017386,\n        \"min\": 1.0,\n        \"max\": 45211.0,\n        \"num_unique_values\": 7,\n        \"samples\": [\n          45211.0,\n          2.763840658246887,\n          3.0\n        ],\n        \"semantic_type\": \"\",\n        \"description\": \"\"\n      }\n    },\n    {\n      \"column\": \"pdays\",\n      \"properties\": {\n        \"dtype\": \"number\",\n        \"std\": 15936.427694880493,\n        \"min\": -1.0,\n        \"max\": 45211.0,\n        \"num_unique_values\": 5,\n        \"samples\": [\n          40.19782796222158,\n          871.0,\n          100.1287459906047\n        ],\n        \"semantic_type\": \"\",\n        \"description\": \"\"\n      }\n    },\n    {\n      \"column\": \"previous\",\n      \"properties\": {\n        \"dtype\": \"number\",\n        \"std\": 15970.756012949014,\n        \"min\": 0.0,\n        \"max\": 45211.0,\n        \"num_unique_values\": 5,\n        \"samples\": [\n          0.5803233726305546,\n          275.0,\n          2.3034410449314233\n        ],\n        \"semantic_type\": \"\",\n        \"description\": \"\"\n      }\n    }\n  ]\n}"
            }
          },
          "metadata": {},
          "execution_count": 6
        }
      ]
    },
    {
      "cell_type": "code",
      "source": [
        "from google.colab import drive\n",
        "drive.mount('/content/drive')"
      ],
      "metadata": {
        "id": "rWQrJrrrRdkO",
        "colab": {
          "base_uri": "https://localhost:8080/"
        },
        "outputId": "3081a620-f3d3-4996-dd4c-cfc7d3dcbdd8"
      },
      "execution_count": null,
      "outputs": [
        {
          "output_type": "stream",
          "name": "stdout",
          "text": [
            "Mounted at /content/drive\n"
          ]
        }
      ]
    },
    {
      "cell_type": "markdown",
      "source": [
        " 2. Check info of the DataFrame and identify following:\n",
        " (a) columns with dtypes=object"
      ],
      "metadata": {
        "id": "aPspSgG4rcW8"
      }
    },
    {
      "cell_type": "code",
      "source": [
        "# Identify columns with dtype=object\n",
        "object_columns = df.select_dtypes(include='object').columns\n",
        "print(\"Columns with dtype=object:\", object_columns.tolist())\n"
      ],
      "metadata": {
        "colab": {
          "base_uri": "https://localhost:8080/"
        },
        "id": "sTMnF1zUrgo7",
        "outputId": "f8bad60f-c005-4ce0-8b4f-8ac98e0fb58a"
      },
      "execution_count": 7,
      "outputs": [
        {
          "output_type": "stream",
          "name": "stdout",
          "text": [
            "Columns with dtype=object: ['job', 'marital', 'education', 'default', 'housing', 'loan', 'contact', 'month', 'poutcome', 'y']\n"
          ]
        }
      ]
    },
    {
      "cell_type": "markdown",
      "source": [
        " (b) unique values of those columns"
      ],
      "metadata": {
        "id": "zo1BdPCwrpkd"
      }
    },
    {
      "cell_type": "code",
      "source": [
        "#unique values for object columns\n",
        "for col in object_columns:\n",
        "    print(f\"Unique values in {col}: {df[col].unique()}\")\n"
      ],
      "metadata": {
        "colab": {
          "base_uri": "https://localhost:8080/"
        },
        "id": "OboznZo6rv5U",
        "outputId": "c735e267-69f8-409c-f0e7-c1393b6e7007"
      },
      "execution_count": 8,
      "outputs": [
        {
          "output_type": "stream",
          "name": "stdout",
          "text": [
            "Unique values in job: ['management' 'technician' 'entrepreneur' 'blue-collar' 'unknown'\n",
            " 'retired' 'admin.' 'services' 'self-employed' 'unemployed' 'housemaid'\n",
            " 'student']\n",
            "Unique values in marital: ['married' 'single' 'divorced']\n",
            "Unique values in education: ['tertiary' 'secondary' 'unknown' 'primary']\n",
            "Unique values in default: ['no' 'yes']\n",
            "Unique values in housing: ['yes' 'no']\n",
            "Unique values in loan: ['no' 'yes']\n",
            "Unique values in contact: ['unknown' 'cellular' 'telephone']\n",
            "Unique values in month: ['may' 'jun' 'jul' 'aug' 'oct' 'nov' 'dec' 'jan' 'feb' 'mar' 'apr' 'sep']\n",
            "Unique values in poutcome: ['unknown' 'failure' 'other' 'success']\n",
            "Unique values in y: ['no' 'yes']\n"
          ]
        }
      ]
    },
    {
      "cell_type": "markdown",
      "source": [
        " (c) check for the total number of null values in each column."
      ],
      "metadata": {
        "id": "Bwq3HcgZr6oY"
      }
    },
    {
      "cell_type": "code",
      "source": [
        "null_values = df.isnull().sum()\n",
        "print(\"Null values in each column:\\n\", null_values)\n"
      ],
      "metadata": {
        "colab": {
          "base_uri": "https://localhost:8080/"
        },
        "id": "TT4HT9iqr_bG",
        "outputId": "e13a612a-2f53-4082-cea5-0fd231ebddc4"
      },
      "execution_count": 9,
      "outputs": [
        {
          "output_type": "stream",
          "name": "stdout",
          "text": [
            "Null values in each column:\n",
            " age          0\n",
            "job          0\n",
            "marital      0\n",
            "education    0\n",
            "default      0\n",
            "balance      0\n",
            "housing      0\n",
            "loan         0\n",
            "contact      0\n",
            "day          0\n",
            "month        0\n",
            "duration     0\n",
            "campaign     0\n",
            "pdays        0\n",
            "previous     0\n",
            "poutcome     0\n",
            "y            0\n",
            "dtype: int64\n"
          ]
        }
      ]
    },
    {
      "cell_type": "markdown",
      "source": [
        "3. Drop all the columns with dtypes object and store in new DataFrame, also write the DataFrame in\n",
        " ”.csv” with name ”banknumericdata.csv”"
      ],
      "metadata": {
        "id": "NU8vFH8ksHqe"
      }
    },
    {
      "cell_type": "code",
      "source": [
        "numeric_df = df.drop(columns=object_columns)\n",
        "\n",
        "# Save the new DataFrame to a CSV file\n",
        "numeric_df.to_csv('banknumericdata.csv', index=False)\n",
        "print(\"Numeric DataFrame saved as 'banknumericdata.csv'\")\n"
      ],
      "metadata": {
        "colab": {
          "base_uri": "https://localhost:8080/"
        },
        "id": "v5cP-1u3sNlm",
        "outputId": "68868f04-9791-4fe8-9659-dd2d5035a945"
      },
      "execution_count": 10,
      "outputs": [
        {
          "output_type": "stream",
          "name": "stdout",
          "text": [
            "Numeric DataFrame saved as 'banknumericdata.csv'\n"
          ]
        }
      ]
    },
    {
      "cell_type": "markdown",
      "source": [
        " 4. Read ”banknumericdata.csv” and Find the summary statistics"
      ],
      "metadata": {
        "id": "s0qtoyaOskVW"
      }
    },
    {
      "cell_type": "code",
      "source": [
        "numeric_data = pd.read_csv('/content/drive/MyDrive/python/bank .csv')\n",
        "\n",
        "# Get summary statistics\n",
        "summary_statistics = numeric_data.describe()\n",
        "print(\"Summary Statistics:\\n\", summary_statistics)\n"
      ],
      "metadata": {
        "colab": {
          "base_uri": "https://localhost:8080/"
        },
        "id": "bZHRbG_rspB0",
        "outputId": "eeafb2ef-da1b-45f5-a838-b74dd37e4dd8"
      },
      "execution_count": 11,
      "outputs": [
        {
          "output_type": "stream",
          "name": "stdout",
          "text": [
            "Summary Statistics:\n",
            "                 age        balance           day      duration      campaign  \\\n",
            "count  45211.000000   45211.000000  45211.000000  45211.000000  45211.000000   \n",
            "mean      40.936210    1362.272058     15.806419    258.163080      2.763841   \n",
            "std       10.618762    3044.765829      8.322476    257.527812      3.098021   \n",
            "min       18.000000   -8019.000000      1.000000      0.000000      1.000000   \n",
            "25%       33.000000      72.000000      8.000000    103.000000      1.000000   \n",
            "50%       39.000000     448.000000     16.000000    180.000000      2.000000   \n",
            "75%       48.000000    1428.000000     21.000000    319.000000      3.000000   \n",
            "max       95.000000  102127.000000     31.000000   4918.000000     63.000000   \n",
            "\n",
            "              pdays      previous  \n",
            "count  45211.000000  45211.000000  \n",
            "mean      40.197828      0.580323  \n",
            "std      100.128746      2.303441  \n",
            "min       -1.000000      0.000000  \n",
            "25%       -1.000000      0.000000  \n",
            "50%       -1.000000      0.000000  \n",
            "75%       -1.000000      0.000000  \n",
            "max      871.000000    275.000000  \n"
          ]
        }
      ]
    },
    {
      "cell_type": "markdown",
      "source": [
        " Problem 2- Data Imputations:\n",
        " Complete all the following Task:\n",
        " • Dataset for the Task: \"medical_student.csv\"\n",
        " 1. Load the provided dataset and import in pandas DataFrame"
      ],
      "metadata": {
        "id": "93mOmO1jtOBj"
      }
    },
    {
      "cell_type": "code",
      "source": [
        "import pandas as pd\n",
        "df=pd.read_csv('/content/drive/MyDrive/python/medical_students_dataset.csv')\n",
        "df.info()\n",
        "missing_values=df.isnull().sum()\n",
        "print(\"Missing Values:\")\n",
        "print(missing_values)\n",
        "\n",
        "for col in missing_values[missing_values > 0].index:\n",
        "    if df[col].dtype == 'object':  # For categorical columns\n",
        "        df[col].fillna(df[col].mode()[0], inplace=True)  # Fill with mode\n",
        "        print(f\"Filled missing values in column '{col}' with its mode.\")\n",
        "    else:  # For numerical columns\n",
        "        df[col].fillna(df[col].mean(), inplace=True)  # Fill with mean\n",
        "        print(f\"Filled missing values in column '{col}' with its mean.\")\n",
        "\n",
        "print(df.duplicated().sum())\n",
        "\n",
        "df.drop_duplicates(inplace=True)\n",
        "df.duplicated().sum()\n",
        "\n",
        "df.to_csv('cleaned_medical_students_dataset.csv', index=False)"
      ],
      "metadata": {
        "id": "7xYqj_GstPKj",
        "colab": {
          "base_uri": "https://localhost:8080/"
        },
        "outputId": "a8b268e0-bbe9-4299-a6c8-040ccd93a012"
      },
      "execution_count": 12,
      "outputs": [
        {
          "output_type": "stream",
          "name": "stdout",
          "text": [
            "<class 'pandas.core.frame.DataFrame'>\n",
            "RangeIndex: 200000 entries, 0 to 199999\n",
            "Data columns (total 13 columns):\n",
            " #   Column          Non-Null Count   Dtype  \n",
            "---  ------          --------------   -----  \n",
            " 0   Student ID      180000 non-null  float64\n",
            " 1   Age             180000 non-null  float64\n",
            " 2   Gender          180000 non-null  object \n",
            " 3   Height          180000 non-null  float64\n",
            " 4   Weight          180000 non-null  float64\n",
            " 5   Blood Type      180000 non-null  object \n",
            " 6   BMI             180000 non-null  float64\n",
            " 7   Temperature     180000 non-null  float64\n",
            " 8   Heart Rate      180000 non-null  float64\n",
            " 9   Blood Pressure  180000 non-null  float64\n",
            " 10  Cholesterol     180000 non-null  float64\n",
            " 11  Diabetes        180000 non-null  object \n",
            " 12  Smoking         180000 non-null  object \n",
            "dtypes: float64(9), object(4)\n",
            "memory usage: 19.8+ MB\n",
            "Missing Values:\n",
            "Student ID        20000\n",
            "Age               20000\n",
            "Gender            20000\n",
            "Height            20000\n",
            "Weight            20000\n",
            "Blood Type        20000\n",
            "BMI               20000\n",
            "Temperature       20000\n",
            "Heart Rate        20000\n",
            "Blood Pressure    20000\n",
            "Cholesterol       20000\n",
            "Diabetes          20000\n",
            "Smoking           20000\n",
            "dtype: int64\n",
            "Filled missing values in column 'Student ID' with its mean.\n",
            "Filled missing values in column 'Age' with its mean.\n",
            "Filled missing values in column 'Gender' with its mode.\n",
            "Filled missing values in column 'Height' with its mean.\n",
            "Filled missing values in column 'Weight' with its mean.\n",
            "Filled missing values in column 'Blood Type' with its mode.\n",
            "Filled missing values in column 'BMI' with its mean.\n",
            "Filled missing values in column 'Temperature' with its mean.\n",
            "Filled missing values in column 'Heart Rate' with its mean.\n",
            "Filled missing values in column 'Blood Pressure' with its mean.\n",
            "Filled missing values in column 'Cholesterol' with its mean.\n",
            "Filled missing values in column 'Diabetes' with its mode.\n",
            "Filled missing values in column 'Smoking' with its mode.\n"
          ]
        },
        {
          "output_type": "stream",
          "name": "stderr",
          "text": [
            "<ipython-input-12-e77361c48bea>:13: FutureWarning: A value is trying to be set on a copy of a DataFrame or Series through chained assignment using an inplace method.\n",
            "The behavior will change in pandas 3.0. This inplace method will never work because the intermediate object on which we are setting values always behaves as a copy.\n",
            "\n",
            "For example, when doing 'df[col].method(value, inplace=True)', try using 'df.method({col: value}, inplace=True)' or df[col] = df[col].method(value) instead, to perform the operation inplace on the original object.\n",
            "\n",
            "\n",
            "  df[col].fillna(df[col].mean(), inplace=True)  # Fill with mean\n",
            "<ipython-input-12-e77361c48bea>:10: FutureWarning: A value is trying to be set on a copy of a DataFrame or Series through chained assignment using an inplace method.\n",
            "The behavior will change in pandas 3.0. This inplace method will never work because the intermediate object on which we are setting values always behaves as a copy.\n",
            "\n",
            "For example, when doing 'df[col].method(value, inplace=True)', try using 'df.method({col: value}, inplace=True)' or df[col] = df[col].method(value) instead, to perform the operation inplace on the original object.\n",
            "\n",
            "\n",
            "  df[col].fillna(df[col].mode()[0], inplace=True)  # Fill with mode\n"
          ]
        },
        {
          "output_type": "stream",
          "name": "stdout",
          "text": [
            "12572\n"
          ]
        }
      ]
    },
    {
      "cell_type": "markdown",
      "source": [],
      "metadata": {
        "id": "Uh7V5fVS-Jtt"
      }
    },
    {
      "cell_type": "code",
      "source": [
        "import pandas as pd\n",
        "\n",
        "df = pd.read_csv('/content/drive/MyDrive/python/Titanic-Dataset.csv')\n",
        "\n",
        "# Subset the DataFrame for specific columns\n",
        "subset_df = df[['Name', 'Pclass', 'Sex', 'Age', 'Fare', 'Survived']]\n",
        "\n",
        "# Filter rows where 'Pclass' equals 1 (first-class passengers)\n",
        "first_class_df = subset_df[subset_df['Pclass'] == 1]\n",
        "\n",
        "\n",
        "# Compute mean, median, max, and min for the 'Fare' column\n",
        "fare_mean = first_class_df['Fare'].mean()\n",
        "fare_median = first_class_df['Fare'].median()\n",
        "fare_max = first_class_df['Fare'].max()\n",
        "fare_min = first_class_df['Fare'].min()\n",
        "\n",
        "# Print results\n",
        "print(\"Fare Statistics for First-Class Passengers:\")\n",
        "print(f\"Mean: {fare_mean}\")\n",
        "print(f\"Median: {fare_median}\")\n",
        "print(f\"Maximum: {fare_max}\")\n",
        "print(f\"Minimum: {fare_min}\")\n",
        "\n",
        "\n",
        "# Count null values in the 'Age' column\n",
        "null_age_count = first_class_df['Age'].isnull().sum()\n",
        "print(f\"Number of null values in 'Age' column: {null_age_count}\")\n",
        "\n",
        "# Drop rows where 'Age' is null\n",
        "cleaned_df = first_class_df.dropna(subset=['Age'])\n",
        "\n",
        "# Print updated DataFrame info\n",
        "print(\"\\nUpdated DataFrame after dropping rows with null 'Age' values:\")\n",
        "print(cleaned_df.info())\n",
        "\n",
        "# Step 1: One-hot encoding for the 'Embarked' column\n",
        "embarked_dummies = pd.get_dummies(df['Embarked'], prefix='Embarked')\n",
        "\n",
        "# Step 2: Add the new columns to the original DataFrame\n",
        "df = pd.concat([df, embarked_dummies], axis=1)\n",
        "\n",
        "# Step 3: Drop the original 'Embarked' column\n",
        "df.drop(columns=['Embarked'], inplace=True)\n",
        "\n",
        "# Step 4: Print the first few rows of the modified DataFrame\n",
        "print(\"Modified DataFrame:\")\n",
        "print(df.head())\n"
      ],
      "metadata": {
        "colab": {
          "base_uri": "https://localhost:8080/"
        },
        "id": "km8zNX04-YxX",
        "outputId": "dada5c59-755e-463f-8c58-e8690899ca3b"
      },
      "execution_count": 13,
      "outputs": [
        {
          "output_type": "stream",
          "name": "stdout",
          "text": [
            "Fare Statistics for First-Class Passengers:\n",
            "Mean: 84.1546875\n",
            "Median: 60.287499999999994\n",
            "Maximum: 512.3292\n",
            "Minimum: 0.0\n",
            "Number of null values in 'Age' column: 30\n",
            "\n",
            "Updated DataFrame after dropping rows with null 'Age' values:\n",
            "<class 'pandas.core.frame.DataFrame'>\n",
            "Index: 186 entries, 1 to 889\n",
            "Data columns (total 6 columns):\n",
            " #   Column    Non-Null Count  Dtype  \n",
            "---  ------    --------------  -----  \n",
            " 0   Name      186 non-null    object \n",
            " 1   Pclass    186 non-null    int64  \n",
            " 2   Sex       186 non-null    object \n",
            " 3   Age       186 non-null    float64\n",
            " 4   Fare      186 non-null    float64\n",
            " 5   Survived  186 non-null    int64  \n",
            "dtypes: float64(2), int64(2), object(2)\n",
            "memory usage: 10.2+ KB\n",
            "None\n",
            "Modified DataFrame:\n",
            "   PassengerId  Survived  Pclass  \\\n",
            "0            1         0       3   \n",
            "1            2         1       1   \n",
            "2            3         1       3   \n",
            "3            4         1       1   \n",
            "4            5         0       3   \n",
            "\n",
            "                                                Name     Sex   Age  SibSp  \\\n",
            "0                            Braund, Mr. Owen Harris    male  22.0      1   \n",
            "1  Cumings, Mrs. John Bradley (Florence Briggs Th...  female  38.0      1   \n",
            "2                             Heikkinen, Miss. Laina  female  26.0      0   \n",
            "3       Futrelle, Mrs. Jacques Heath (Lily May Peel)  female  35.0      1   \n",
            "4                           Allen, Mr. William Henry    male  35.0      0   \n",
            "\n",
            "   Parch            Ticket     Fare Cabin  Embarked_C  Embarked_Q  Embarked_S  \n",
            "0      0         A/5 21171   7.2500   NaN       False       False        True  \n",
            "1      0          PC 17599  71.2833   C85        True       False       False  \n",
            "2      0  STON/O2. 3101282   7.9250   NaN       False       False        True  \n",
            "3      0            113803  53.1000  C123       False       False        True  \n",
            "4      0            373450   8.0500   NaN       False       False        True  \n"
          ]
        }
      ]
    },
    {
      "cell_type": "markdown",
      "source": [
        " Problem- 4:\n",
        " Compare the mean survival rates (’Survived’) for the different groups in the ’Sex’ column. Draw a visual\n",
        "ization to show how the survival distributions vary by gender."
      ],
      "metadata": {
        "id": "gU5iId3k-k4R"
      }
    },
    {
      "cell_type": "code",
      "source": [
        "import pandas as pd\n",
        "import matplotlib.pyplot as plt\n",
        "import seaborn as sns\n",
        "\n",
        "# Load the dataset\n",
        "file_path = '/content/drive/MyDrive/python/Titanic-Dataset.csv'\n",
        "df = pd.read_csv(file_path)\n",
        "\n",
        "# Calculate mean survival rates by gender\n",
        "mean_survival_by_gender = df.groupby('Sex')['Survived'].mean()\n",
        "print(\"Mean survival rates by gender:\")\n",
        "print(mean_survival_by_gender)\n",
        "\n",
        "# Visualization of survival distributions by gender\n",
        "sns.barplot(x='Sex', y='Survived', data=df, ci=None)\n",
        "plt.title('Mean Survival Rates by Gender')\n",
        "plt.ylabel('Survival Rate')\n",
        "plt.xlabel('Gender')\n",
        "plt.show()"
      ],
      "metadata": {
        "colab": {
          "base_uri": "https://localhost:8080/",
          "height": 646
        },
        "id": "oCj6MjLi_dys",
        "outputId": "521891a1-21ed-4387-e975-315ca3163f8c"
      },
      "execution_count": 14,
      "outputs": [
        {
          "output_type": "stream",
          "name": "stdout",
          "text": [
            "Mean survival rates by gender:\n",
            "Sex\n",
            "female    0.742038\n",
            "male      0.188908\n",
            "Name: Survived, dtype: float64\n"
          ]
        },
        {
          "output_type": "stream",
          "name": "stderr",
          "text": [
            "<ipython-input-14-a109460e5c99>:15: FutureWarning: \n",
            "\n",
            "The `ci` parameter is deprecated. Use `errorbar=None` for the same effect.\n",
            "\n",
            "  sns.barplot(x='Sex', y='Survived', data=df, ci=None)\n"
          ]
        },
        {
          "output_type": "display_data",
          "data": {
            "text/plain": [
              "<Figure size 640x480 with 1 Axes>"
            ],
            "image/png": "[encoded data removed]"
          },
          "metadata": {}
        }
      ]
    },
    {
      "cell_type": "markdown",
      "source": [
        " Problem- 5:\n",
        " Draw a visualization that breaks your visualization from Exercise 3 down by the port of embarkation (’Em\n",
        "barked’). In this instance, compare the ports ’C’ (Cherbourg), ’Q’ (Queenstown), and ’S’ (Southampton)."
      ],
      "metadata": {
        "id": "PLbLuYHk_v-q"
      }
    },
    {
      "cell_type": "code",
      "source": [
        "# Visualization of survival distributions by port of embarkation and gender\n",
        "sns.catplot(x='Embarked', y='Survived', hue='Sex', kind='bar', data=df, ci=None)\n",
        "plt.title('Survival Rates by Port of Embarkation and Gender')\n",
        "plt.ylabel('Survival Rate')\n",
        "plt.xlabel('Port of Embarkation')\n",
        "plt.show()"
      ],
      "metadata": {
        "colab": {
          "base_uri": "https://localhost:8080/",
          "height": 621
        },
        "id": "bdvN_Jv5AElP",
        "outputId": "149a6b50-57fe-491c-f534-2913313d7d65"
      },
      "execution_count": null,
      "outputs": [
        {
          "output_type": "stream",
          "name": "stderr",
          "text": [
            "<ipython-input-7-5ba3ace9fc4c>:2: FutureWarning: \n",
            "\n",
            "The `ci` parameter is deprecated. Use `errorbar=None` for the same effect.\n",
            "\n",
            "  sns.catplot(x='Embarked', y='Survived', hue='Sex', kind='bar', data=df, ci=None)\n"
          ]
        },
        {
          "output_type": "display_data",
          "data": {
            "text/plain": [
              "<Figure size 598x500 with 1 Axes>"
            ],
            "image/png": "[encoded data removed]"
          },
          "metadata": {}
        }
      ]
    },
    {
      "cell_type": "markdown",
      "source": [
        " Problem- 6{Optional}:\n",
        " Show how the survival rates (’Survived’) vary by age group and passenger class (’Pclass’). Break up the\n",
        " ’Age’ column into five quantiles in your DataFrame, and then compare the means of ’Survived’ by class\n",
        " and age group. Draw a visualization using a any plotting library to represent this graphically"
      ],
      "metadata": {
        "id": "q7hIga9MASyp"
      }
    },
    {
      "cell_type": "code",
      "source": [
        "# Create age quantiles\n",
        "df['AgeGroup'] = pd.qcut(df['Age'], q=5)\n",
        "\n",
        "# Calculate survival rates by AgeGroup and Pclass\n",
        "survival_rates = df.groupby(['AgeGroup', 'Pclass'])['Survived'].mean().unstack()\n",
        "print(\"Survival rates by Age Group and Passenger Class:\")\n",
        "print(survival_rates)\n",
        "\n",
        "# Visualization of survival rates by AgeGroup and Pclass\n",
        "survival_rates.plot(kind='bar', figsize=(10, 6), colormap='viridis')\n",
        "plt.title('Survival Rates by Age Group and Passenger Class')\n",
        "plt.ylabel('Survival Rate')\n",
        "plt.xlabel('Age Group')\n",
        "plt.xticks(rotation=45)\n",
        "plt.legend(title='Pclass')\n",
        "plt.show()"
      ],
      "metadata": {
        "colab": {
          "base_uri": "https://localhost:8080/",
          "height": 829
        },
        "id": "7GKagIMOATiq",
        "outputId": "fa540b77-f1f6-493a-d2c4-6de2575f7eeb"
      },
      "execution_count": null,
      "outputs": [
        {
          "output_type": "stream",
          "name": "stderr",
          "text": [
            "<ipython-input-8-13c65972ed1f>:5: FutureWarning: The default of observed=False is deprecated and will be changed to True in a future version of pandas. Pass observed=False to retain current behavior or observed=True to adopt the future default and silence this warning.\n",
            "  survival_rates = df.groupby(['AgeGroup', 'Pclass'])['Survived'].mean().unstack()\n"
          ]
        },
        {
          "output_type": "stream",
          "name": "stdout",
          "text": [
            "Survival rates by Age Group and Passenger Class:\n",
            "Pclass                1         2         3\n",
            "AgeGroup                                   \n",
            "(0.419, 19.0]  0.809524  0.742857  0.333333\n",
            "(19.0, 25.0]   0.761905  0.400000  0.197674\n",
            "(25.0, 31.8]   0.666667  0.416667  0.283582\n",
            "(31.8, 41.0]   0.777778  0.461538  0.166667\n",
            "(41.0, 80.0]   0.506667  0.363636  0.088235\n"
          ]
        },
        {
          "output_type": "display_data",
          "data": {
            "text/plain": [
              "<Figure size 1000x600 with 1 Axes>"
            ],
            "image/png": "[encoded data removed]"
          },
          "metadata": {}
        }
      ]
    }
  ]
}